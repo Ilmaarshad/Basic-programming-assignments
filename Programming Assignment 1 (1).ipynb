{
 "cells": [
  {
   "cell_type": "raw",
   "id": "c278862a",
   "metadata": {},
   "source": [
    "1. Write a Python program to print \"Hello Python\"?"
   ]
  },
  {
   "cell_type": "code",
   "execution_count": 1,
   "id": "618d3ea1",
   "metadata": {},
   "outputs": [
    {
     "name": "stdout",
     "output_type": "stream",
     "text": [
      "Hello Python\n"
     ]
    }
   ],
   "source": [
    "print(\"Hello Python\")"
   ]
  },
  {
   "cell_type": "raw",
   "id": "e91d2399",
   "metadata": {},
   "source": [
    "2. Write a Python program to do arithmetical operations addition and division.?"
   ]
  },
  {
   "cell_type": "code",
   "execution_count": 7,
   "id": "a84c1a07",
   "metadata": {},
   "outputs": [
    {
     "data": {
      "text/plain": [
       "13"
      ]
     },
     "execution_count": 7,
     "metadata": {},
     "output_type": "execute_result"
    }
   ],
   "source": [
    "def add(a,b):\n",
    "    return a +b\n",
    "\n",
    "add(5,8)"
   ]
  },
  {
   "cell_type": "code",
   "execution_count": 10,
   "id": "148caae5",
   "metadata": {},
   "outputs": [
    {
     "data": {
      "text/plain": [
       "2.0"
      ]
     },
     "execution_count": 10,
     "metadata": {},
     "output_type": "execute_result"
    }
   ],
   "source": [
    "def divide(a,b):\n",
    "    return a / b\n",
    "\n",
    "divide(4,2)"
   ]
  },
  {
   "cell_type": "raw",
   "id": "f730c4cb",
   "metadata": {},
   "source": [
    "3. Write a Python program to find the area of a triangle?"
   ]
  },
  {
   "cell_type": "code",
   "execution_count": 47,
   "id": "516751a0",
   "metadata": {},
   "outputs": [
    {
     "name": "stdout",
     "output_type": "stream",
     "text": [
      "Enter the base of triangle 8\n",
      "Enter the height of triangle 2\n",
      "The area of base 8 and height 2 is 8.0 \n"
     ]
    }
   ],
   "source": [
    "base = int(input('Enter the base of triangle '))\n",
    "height = int(input('Enter the height of triangle '))\n",
    "area = ((base*height)/2)\n",
    "print(f'The area of base {base} and height {height} is {area} ')    "
   ]
  },
  {
   "cell_type": "raw",
   "id": "d77dd219",
   "metadata": {},
   "source": [
    "4. Write a Python program to swap two variables?"
   ]
  },
  {
   "cell_type": "code",
   "execution_count": 44,
   "id": "a16d36d6",
   "metadata": {},
   "outputs": [
    {
     "name": "stdout",
     "output_type": "stream",
     "text": [
      "Enter first variable9\n",
      "Enter second variable8\n",
      "After swapping \n",
      "first variable 8 \n",
      "second variable 9\n"
     ]
    }
   ],
   "source": [
    "var1 = int(input('Enter first variable'))\n",
    "var2 = int(input('Enter second variable'))\n",
    "temp = 0 \n",
    "temp = var1\n",
    "var1 = var2\n",
    "var2 = temp\n",
    "print(f'After swapping \\nfirst variable {var1} \\nsecond variable {var2}')"
   ]
  },
  {
   "cell_type": "raw",
   "id": "44668534",
   "metadata": {},
   "source": [
    "5. Write a Python program to generate a random number?"
   ]
  },
  {
   "cell_type": "code",
   "execution_count": 32,
   "id": "ad0e1fd8",
   "metadata": {},
   "outputs": [
    {
     "name": "stdout",
     "output_type": "stream",
     "text": [
      "63\n"
     ]
    }
   ],
   "source": [
    "import random\n",
    "print(random.randint(3,77))"
   ]
  }
 ],
 "metadata": {
  "kernelspec": {
   "display_name": "Python 3 (ipykernel)",
   "language": "python",
   "name": "python3"
  },
  "language_info": {
   "codemirror_mode": {
    "name": "ipython",
    "version": 3
   },
   "file_extension": ".py",
   "mimetype": "text/x-python",
   "name": "python",
   "nbconvert_exporter": "python",
   "pygments_lexer": "ipython3",
   "version": "3.9.13"
  }
 },
 "nbformat": 4,
 "nbformat_minor": 5
}
