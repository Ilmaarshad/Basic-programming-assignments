{
 "cells": [
  {
   "cell_type": "raw",
   "id": "f4d37dc2",
   "metadata": {},
   "source": [
    "1. Write a Python Program to Display Fibonacci Sequence Using Recursion?"
   ]
  },
  {
   "cell_type": "code",
   "execution_count": 1,
   "id": "e0224c9a",
   "metadata": {},
   "outputs": [
    {
     "name": "stdout",
     "output_type": "stream",
     "text": [
      "input no : 6\n",
      "0 1 1 2 3 5 "
     ]
    }
   ],
   "source": [
    "def recurfib(n):\n",
    "    if n<=1:\n",
    "        return n\n",
    "    else:\n",
    "        return recurfib(n-1) + recurfib(n-2)\n",
    "\n",
    "num = int(input(\"input no : \"))\n",
    "\n",
    "if num <=0:\n",
    "    print(\"Please provide positive no.\")\n",
    "\n",
    "else:\n",
    "    for i in range(num):\n",
    "        print(recurfib(i) , end=\" \")\n",
    "       \n",
    "    "
   ]
  },
  {
   "cell_type": "raw",
   "id": "2890eb2d",
   "metadata": {},
   "source": [
    "2. Write a Python Program to Find Factorial of Number Using Recursion?"
   ]
  },
  {
   "cell_type": "code",
   "execution_count": 2,
   "id": "d346421d",
   "metadata": {},
   "outputs": [
    {
     "name": "stdout",
     "output_type": "stream",
     "text": [
      "input a no : 6\n",
      "720\n"
     ]
    }
   ],
   "source": [
    "def fact(n):\n",
    "    if n==0:\n",
    "        return 1\n",
    "    else:\n",
    "        return n * fact(n-1)\n",
    "\n",
    "num = int(input(\"input a no : \"))\n",
    "\n",
    "if num<0:\n",
    "    print(\"Enter positive no.\")\n",
    "else:\n",
    "    \n",
    "        print(fact(num))\n"
   ]
  },
  {
   "cell_type": "raw",
   "id": "bb2b123a",
   "metadata": {},
   "source": [
    "3. Write a Python Program to calculate your Body Mass Index?"
   ]
  },
  {
   "cell_type": "code",
   "execution_count": 2,
   "id": "55964e51",
   "metadata": {},
   "outputs": [
    {
     "name": "stdout",
     "output_type": "stream",
     "text": [
      "Enter your height in meter : 155\n",
      "Enter your weight in kg : 58\n",
      "You BMI is 0.002414151925078044\n",
      "You are underweight.\n"
     ]
    }
   ],
   "source": [
    "def bmi(height,weight):\n",
    "    BMI = weight/(height**2)\n",
    "    print(f\"You BMI is {BMI}\")\n",
    "\n",
    "    if BMI <= 18.4:\n",
    "        print(\"You are underweight.\")\n",
    "    elif BMI <= 24.9:\n",
    "        print(\"You are healthy.\")\n",
    "    elif BMI <= 29.9:\n",
    "        print(\"You are over weight.\")\n",
    "    elif BMI <= 34.9:\n",
    "        print(\"You are severely over weight.\")\n",
    "    elif BMI <= 39.9:\n",
    "        print(\"You are obese.\")\n",
    "    else:\n",
    "        print(\"You are severely obese.\")\n",
    "\n",
    "    \n",
    "height = float(input(\"Enter your height in meter : \"))\n",
    "weight = float(input(\"Enter your weight in kg : \"))\n",
    "bmi(height,weight)"
   ]
  },
  {
   "cell_type": "raw",
   "id": "b749e457",
   "metadata": {},
   "source": [
    "4. Write a Python Program to calculate the natural logarithm of any number?"
   ]
  },
  {
   "cell_type": "code",
   "execution_count": 4,
   "id": "83fa2a4d",
   "metadata": {},
   "outputs": [
    {
     "name": "stdout",
     "output_type": "stream",
     "text": [
      "Enter a number : 4\n",
      "Log of 4 is 1.3862943611198906\n"
     ]
    }
   ],
   "source": [
    "import math\n",
    "x = int(input((\"Enter a number : \")))\n",
    "log = math.log(x)\n",
    "print(\"Log of {} is {}\".format(x, log))"
   ]
  },
  {
   "cell_type": "raw",
   "id": "0fe41920",
   "metadata": {},
   "source": [
    "5. Write a Python Program for cube sum of first n natural numbers?"
   ]
  },
  {
   "cell_type": "code",
   "execution_count": 5,
   "id": "bfa65d40",
   "metadata": {},
   "outputs": [
    {
     "name": "stdout",
     "output_type": "stream",
     "text": [
      "Enter a no :6\n",
      "Cube sum of 6 natural numbers is 441\n"
     ]
    }
   ],
   "source": [
    "num = int(input(\"Enter a no :\"))\n",
    "sum = 0\n",
    "for i in range(1 , num+1):\n",
    "    sum = sum + i**3\n",
    "print(\"Cube sum of {} natural numbers is {}\".format(num,sum))    "
   ]
  },
  {
   "cell_type": "code",
   "execution_count": null,
   "id": "092a2960",
   "metadata": {},
   "outputs": [],
   "source": []
  }
 ],
 "metadata": {
  "kernelspec": {
   "display_name": "Python 3 (ipykernel)",
   "language": "python",
   "name": "python3"
  },
  "language_info": {
   "codemirror_mode": {
    "name": "ipython",
    "version": 3
   },
   "file_extension": ".py",
   "mimetype": "text/x-python",
   "name": "python",
   "nbconvert_exporter": "python",
   "pygments_lexer": "ipython3",
   "version": "3.9.13"
  }
 },
 "nbformat": 4,
 "nbformat_minor": 5
}
