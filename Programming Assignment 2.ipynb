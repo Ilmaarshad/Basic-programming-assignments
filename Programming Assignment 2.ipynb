{
 "cells": [
  {
   "cell_type": "raw",
   "id": "a8437c91",
   "metadata": {},
   "source": [
    "1. Write a Python program to convert kilometers to miles?"
   ]
  },
  {
   "cell_type": "code",
   "execution_count": 20,
   "id": "a2c3f191",
   "metadata": {},
   "outputs": [
    {
     "name": "stdout",
     "output_type": "stream",
     "text": [
      "Enter kilometer 8\n",
      "Miles 4.970968\n"
     ]
    }
   ],
   "source": [
    "km = int(input(\"Enter kilometer \"))\n",
    "miles = km * 0.621371\n",
    "print(f'Miles {miles}')"
   ]
  },
  {
   "cell_type": "raw",
   "id": "883e9716",
   "metadata": {},
   "source": [
    "2. Write a Python program to convert Celsius to Fahrenheit?"
   ]
  },
  {
   "cell_type": "code",
   "execution_count": 21,
   "id": "133f1226",
   "metadata": {},
   "outputs": [
    {
     "name": "stdout",
     "output_type": "stream",
     "text": [
      "Enter celsius 6\n",
      "Farhenheit : 42.8\n"
     ]
    }
   ],
   "source": [
    "cel = int(input('Enter celsius '))\n",
    "far = cel  * (9/5) + 32\n",
    "print(f\"Farhenheit : {far}\")"
   ]
  },
  {
   "cell_type": "raw",
   "id": "655b9a30",
   "metadata": {},
   "source": [
    "3. Write a Python program to display calendar?"
   ]
  },
  {
   "cell_type": "code",
   "execution_count": 22,
   "id": "ba85d1ba",
   "metadata": {},
   "outputs": [
    {
     "name": "stdout",
     "output_type": "stream",
     "text": [
      "Enter year = 2022\n",
      "Enter month in number = 12\n",
      "   December 2022\n",
      "Mo Tu We Th Fr Sa Su\n",
      "          1  2  3  4\n",
      " 5  6  7  8  9 10 11\n",
      "12 13 14 15 16 17 18\n",
      "19 20 21 22 23 24 25\n",
      "26 27 28 29 30 31\n",
      "\n"
     ]
    }
   ],
   "source": [
    "import calendar\n",
    "y = int(input(\"Enter year = \"))\n",
    "m = int(input(\"Enter month in number = \"))\n",
    "print(calendar.month(y,m))"
   ]
  },
  {
   "cell_type": "raw",
   "id": "1c471d95",
   "metadata": {},
   "source": [
    "4. Write a Python program to solve quadratic equation?"
   ]
  },
  {
   "cell_type": "code",
   "execution_count": 23,
   "id": "7003ad67",
   "metadata": {},
   "outputs": [
    {
     "name": "stdout",
     "output_type": "stream",
     "text": [
      "Enter a = 5\n",
      "Enter b = 7\n",
      "Enter c = 8\n",
      "(-0.7+1.0535653752852738j) , (-0.7-1.0535653752852738j)\n"
     ]
    }
   ],
   "source": [
    "# Formula:\n",
    "# x=-b+-sqrt(b**2-4ac)/2*a\n",
    "import cmath\n",
    "a=int(input(\"Enter a = \"))\n",
    "b=int(input(\"Enter b = \"))\n",
    "c=int(input(\"Enter c = \"))\n",
    "discriminant = (b**2)-(4*a*c)\n",
    "sol_one = (-b+cmath.sqrt(discriminant))/(2*a)\n",
    "sol_two = (-b-cmath.sqrt(discriminant))/(2*a)\n",
    "print(sol_one ,\",\", sol_two)"
   ]
  },
  {
   "cell_type": "raw",
   "id": "c1ba58a3",
   "metadata": {},
   "source": [
    "5. Write a Python program to swap two variables without temp variable?"
   ]
  },
  {
   "cell_type": "code",
   "execution_count": 25,
   "id": "84bbff75",
   "metadata": {},
   "outputs": [
    {
     "name": "stdout",
     "output_type": "stream",
     "text": [
      "Enter first variable3\n",
      "Enter second variable1\n",
      "Before swapping \n",
      "first variable 3 \n",
      "second variable 1\n",
      "After swapping \n",
      "first variable 1 \n",
      "second variable 3\n"
     ]
    }
   ],
   "source": [
    "var1 = int(input('Enter first variable'))\n",
    "var2 = int(input('Enter second variable'))\n",
    "print(f'Before swapping \\nfirst variable {var1} \\nsecond variable {var2}')\n",
    "var1,var2 = var2,var1\n",
    "print(f'After swapping \\nfirst variable {var1} \\nsecond variable {var2}')"
   ]
  }
 ],
 "metadata": {
  "kernelspec": {
   "display_name": "Python 3 (ipykernel)",
   "language": "python",
   "name": "python3"
  },
  "language_info": {
   "codemirror_mode": {
    "name": "ipython",
    "version": 3
   },
   "file_extension": ".py",
   "mimetype": "text/x-python",
   "name": "python",
   "nbconvert_exporter": "python",
   "pygments_lexer": "ipython3",
   "version": "3.9.13"
  }
 },
 "nbformat": 4,
 "nbformat_minor": 5
}
