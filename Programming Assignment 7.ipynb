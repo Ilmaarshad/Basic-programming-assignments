{
 "cells": [
  {
   "cell_type": "raw",
   "id": "acd4c7da",
   "metadata": {},
   "source": [
    "1. Write a Python Program to find sum of array?"
   ]
  },
  {
   "cell_type": "code",
   "execution_count": 2,
   "id": "0f77b9d1",
   "metadata": {},
   "outputs": [
    {
     "name": "stdout",
     "output_type": "stream",
     "text": [
      "Sum :  1014\n"
     ]
    }
   ],
   "source": [
    "sum =0\n",
    "arr = [1,2,3,4,5,999]\n",
    "for i in range(0,len(arr)):\n",
    "    sum+=arr[i]\n",
    "print(\"Sum : \",sum)"
   ]
  },
  {
   "cell_type": "raw",
   "id": "caaca6c4",
   "metadata": {},
   "source": [
    "2. Write a Python Program to find largest element in an array?"
   ]
  },
  {
   "cell_type": "code",
   "execution_count": 3,
   "id": "ea55111d",
   "metadata": {},
   "outputs": [
    {
     "name": "stdout",
     "output_type": "stream",
     "text": [
      "77\n",
      "Largest element in [1, 2, 3, 4, 77, 9] is 77\n"
     ]
    }
   ],
   "source": [
    "c = 0\n",
    "arr = [1,2,3,4,77,9]\n",
    "for i in range(0, len(arr)):\n",
    "  if c > arr[i]:\n",
    "    print(c)\n",
    "  else :\n",
    "    c = arr[i]\n",
    "\n",
    "print(\"Largest element in {} is {}\".format(arr ,c) )   \n"
   ]
  },
  {
   "cell_type": "raw",
   "id": "2415d9b7",
   "metadata": {},
   "source": [
    "3. Write a Python Program for array rotation?"
   ]
  },
  {
   "cell_type": "code",
   "execution_count": 6,
   "id": "fe4e26d2",
   "metadata": {},
   "outputs": [
    {
     "name": "stdout",
     "output_type": "stream",
     "text": [
      "9\n",
      "77\n",
      "4\n",
      "3\n",
      "5\n",
      "2\n"
     ]
    }
   ],
   "source": [
    "arr = [1,2,5,3,4,77,9]\n",
    "rot = []\n",
    "l = len(arr) -1\n",
    "for i in range(l , 0, -1):\n",
    "    print(arr[i])"
   ]
  },
  {
   "cell_type": "raw",
   "id": "3386c638",
   "metadata": {},
   "source": [
    "4. Write a Python Program to Split the array and add the first part to the end?"
   ]
  },
  {
   "cell_type": "code",
   "execution_count": 7,
   "id": "ddb44c08",
   "metadata": {},
   "outputs": [
    {
     "name": "stdout",
     "output_type": "stream",
     "text": [
      "Enter the lenth of arr : 7\n",
      "8\n",
      "9\n",
      "9\n",
      "9\n",
      "3\n",
      "44\n",
      "2\n",
      "Arr is  [8, 9, 9, 9, 3, 44, 2]\n",
      "Enter Rotation Right/Left : Left\n",
      "Enter the number of elements to rotate  : 2\n",
      "After Left rotation :  [9, 9, 3, 44, 2, 8, 9]\n"
     ]
    }
   ],
   "source": [
    "l = int(input(\"Enter the lenth of arr : \"))\n",
    "arr = []\n",
    "\n",
    "for i in range(l):\n",
    "    arr.append(int(input()))\n",
    "print(\"Arr is \",arr)\n",
    "rotation = input(\"Enter Rotation Right/Left : \")\n",
    "noro = int(input(\"Enter the number of elements to rotate  : \"))\n",
    "if noro > l:\n",
    "    print(\"can not rotate as elements to rotate is larger then arr length\")\n",
    "else:\n",
    "    rarr = []\n",
    "    if rotation.upper() == \"RIGHT\":\n",
    "        rarr[:] = arr[-noro:] + arr[:(l-noro)]\n",
    "        print(\"After right rotation : \",rarr)\n",
    "    elif rotation.upper() == \"LEFT\":\n",
    "        rarr[:] = arr[noro:l] + arr[:noro] \n",
    "        print(\"After Left rotation : \",rarr)\n",
    "    else:\n",
    "        print(\"Wrong Entry\")"
   ]
  },
  {
   "cell_type": "raw",
   "id": "161c3e93",
   "metadata": {},
   "source": [
    "5. Write a Python Program to check if given array is Monotonic?"
   ]
  },
  {
   "cell_type": "code",
   "execution_count": 1,
   "id": "905b8b46",
   "metadata": {},
   "outputs": [
    {
     "name": "stdout",
     "output_type": "stream",
     "text": [
      "Enter the lenth of your list : 5\n",
      "2\n",
      "3\n",
      "4\n",
      "5\n",
      "8\n",
      "The List is  [2, 3, 4, 5, 8]\n",
      "Monotonic\n"
     ]
    }
   ],
   "source": [
    "l = int(input(\"Enter the lenth of your list : \"))\n",
    "arr = []\n",
    "\n",
    "for i in range(l):\n",
    "    arr.append(int(input()))\n",
    "print(\"The List is \",arr)\n",
    "\n",
    "if all((arr[i] <= arr[i+1] for i in range(l-1)) or (arr[i] >= lst[i+1] for i in range(l-1))):\n",
    "    print(\"Monotonic\")\n",
    "else:\n",
    "    print(\"Not Monotonic\")"
   ]
  }
 ],
 "metadata": {
  "kernelspec": {
   "display_name": "Python 3 (ipykernel)",
   "language": "python",
   "name": "python3"
  },
  "language_info": {
   "codemirror_mode": {
    "name": "ipython",
    "version": 3
   },
   "file_extension": ".py",
   "mimetype": "text/x-python",
   "name": "python",
   "nbconvert_exporter": "python",
   "pygments_lexer": "ipython3",
   "version": "3.9.13"
  }
 },
 "nbformat": 4,
 "nbformat_minor": 5
}
